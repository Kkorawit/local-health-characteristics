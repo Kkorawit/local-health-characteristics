{
 "cells": [
  {
   "cell_type": "code",
   "execution_count": 6,
   "id": "ff11a719-136c-4142-b5b7-1cd17069189d",
   "metadata": {},
   "outputs": [
    {
     "name": "stdout",
     "output_type": "stream",
     "text": [
      "Mean Squared Error (MSE): 113.91\n",
      "Root Mean Squared Error (RMSE): 10.67\n",
      "R-squared (R²): 0.59\n"
     ]
    }
   ],
   "source": [
    "import pandas as pd\n",
    "from sklearn.linear_model import LinearRegression\n",
    "from sklearn.model_selection import train_test_split\n",
    "from sklearn.metrics import mean_squared_error, r2_score\n",
    "import numpy as np\n",
    "\n",
    "#Import Dataset 100 Largest Companies\n",
    "df = pd.read_csv(\"local-health-characteristics.csv\")\n",
    "\n",
    "df.head(13)\n",
    "# Define the features and target variable\n",
    "features = ['Hypertens', 'Anxiety', 'Asthma']\n",
    "target = 'CHD'\n",
    "\n",
    "X = df[features]\n",
    "Y = df[target]\n",
    "\n",
    "# Split the data into training and testing sets\n",
    "X_train, X_test, Y_train, Y_test = train_test_split(X, Y, test_size=0.4, \n",
    "random_state=40)\n",
    "\n",
    "# Create and train the Linear Regression model with named features\n",
    "model = LinearRegression()\n",
    "model.fit(X_train, Y_train)\n",
    "\n",
    "# Make predictions on the test set\n",
    "Y_pred = model.predict(X_test)\n",
    "\n",
    "# Calculate Mean Squared Error (MSE)\n",
    "mse = mean_squared_error(Y_test, Y_pred)\n",
    "\n",
    "# Calculate Root Mean Squared Error (RMSE)\n",
    "rmse = np.sqrt(mse)\n",
    "\n",
    "# Calculate R-squared (R²)\n",
    "r_squared = r2_score(Y_test, Y_pred)\n",
    "\n",
    "# Print the metrics\n",
    "print(f\"Mean Squared Error (MSE): {mse:.2f}\")\n",
    "print(f\"Root Mean Squared Error (RMSE): {rmse:.2f}\")\n",
    "print(f\"R-squared (R²): {r_squared:.2f}\")"
   ]
  },
  {
   "cell_type": "code",
   "execution_count": 8,
   "id": "9b21156e-d57d-4dbd-b540-15c0a5394eeb",
   "metadata": {},
   "outputs": [
    {
     "data": {
      "text/plain": [
       "['local_health_model.pkl']"
      ]
     },
     "execution_count": 8,
     "metadata": {},
     "output_type": "execute_result"
    }
   ],
   "source": [
    "import joblib\n",
    "# Save the trained model to a file\n",
    "model_filename = 'local_health_model.pkl'\n",
    "joblib.dump(model, model_filename)"
   ]
  },
  {
   "cell_type": "code",
   "execution_count": 10,
   "id": "f70d47a9-89f1-4173-9d8b-a853517f9c7c",
   "metadata": {},
   "outputs": [],
   "source": [
    "import joblib\n",
    "# Define the filename where the model was saved in 2.2\n",
    "model_filename = 'local_health_model.pkl'\n",
    "# Load the saved model\n",
    "loaded_model = joblib.load(model_filename)"
   ]
  },
  {
   "cell_type": "code",
   "execution_count": 25,
   "id": "75988efc-97ef-48b3-a26f-80e8195d6ef2",
   "metadata": {},
   "outputs": [
    {
     "name": "stdout",
     "output_type": "stream",
     "text": [
      "Predicted CHD: 16\n"
     ]
    }
   ],
   "source": [
    "# Example input for prediction with feature names\n",
    "example_data = pd.DataFrame([[100, 27, 57]], columns=features)\n",
    "# Use the loaded model to make predictions\n",
    "predicted_CHD = loaded_model.predict(example_data)\n",
    "# Print the predicted CHD\n",
    "print(f\"Predicted CHD: {predicted_CHD[0]:.0f}\")"
   ]
  },
  {
   "cell_type": "code",
   "execution_count": 31,
   "id": "884d8755-8843-41db-8dd5-e8b0524dd84d",
   "metadata": {},
   "outputs": [],
   "source": [
    "import streamlit as st\n",
    "import joblib\n",
    "import pandas as pd\n",
    "from sklearn.metrics import mean_squared_error\n",
    "import numpy as np\n",
    "# Load the saved model\n",
    "loaded_model = joblib.load('local_health_model.pkl')\n",
    "# Define the features for input\n",
    "features = ['Hypertens', 'Anxiety', 'Asthma']\n",
    "# Define the Streamlit app\n",
    "st.title(\"Local Health Characteristics\")\n",
    "# Add input fields for user to enter data\n",
    "Hypertens = st.slider(\"Hypertens\", min_value=1, max_value=120, value=60)\n",
    "Anxiety = st.slider(\"Anxiety\", min_value=1, max_value=120, value=60)\n",
    "Asthma = st.slider(\"Asthma\", min_value=1, max_value=120, value=60)\n",
    "# Create a DataFrame with the user input\n",
    "example_data = pd.DataFrame([[Hypertens, Anxiety, Asthma]], columns=features)\n",
    "# Make predictions\n",
    "predicted_charges = loaded_model.predict(example_data)\n",
    "# Display the prediction\n",
    "st.write(f\"Predicted CHD: ${predicted_CHD[0]:.0f}\")\n",
    "# Add calculation of Mean Squared Error (MSE) and Root Mean Squared Error (RMSE)\n",
    "actual_CHD = 100 \n",
    "# Replace with the actual charges if available\n",
    "if actual_CHD:\n",
    "    mse = mean_squared_error([actual_CHD], [predicted_CHD[0]])\n",
    "    rmse = np.sqrt(mse)\n",
    "    st.write(f\"MSE: {mse:.2f}\")\n",
    "    st.write(f\"RMSE: {rmse:.2f}\")\n",
    "else:\n",
    "    st.write(\"Unable to calculate MSE and RMSE. Please provide CHD\")"
   ]
  },
  {
   "cell_type": "code",
   "execution_count": null,
   "id": "74e2e690-60a4-4856-ae6c-cb2fd33e513a",
   "metadata": {},
   "outputs": [],
   "source": []
  },
  {
   "cell_type": "code",
   "execution_count": null,
   "id": "005ba69a-d509-467b-90c7-88db520730f4",
   "metadata": {},
   "outputs": [],
   "source": []
  }
 ],
 "metadata": {
  "kernelspec": {
   "display_name": "Python 3 (ipykernel)",
   "language": "python",
   "name": "python3"
  },
  "language_info": {
   "codemirror_mode": {
    "name": "ipython",
    "version": 3
   },
   "file_extension": ".py",
   "mimetype": "text/x-python",
   "name": "python",
   "nbconvert_exporter": "python",
   "pygments_lexer": "ipython3",
   "version": "3.11.5"
  }
 },
 "nbformat": 4,
 "nbformat_minor": 5
}
